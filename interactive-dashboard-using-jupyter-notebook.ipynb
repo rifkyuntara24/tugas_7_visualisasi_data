{
 "cells": [
  {
   "cell_type": "markdown",
   "id": "36744b59",
   "metadata": {
    "papermill": {
     "duration": 0.011976,
     "end_time": "2024-10-27T10:20:48.101696",
     "exception": false,
     "start_time": "2024-10-27T10:20:48.089720",
     "status": "completed"
    },
    "tags": []
   },
   "source": [
    "# How to build interactive dashboard using Jupyter notebook?\n",
    "\n",
    "**Dataset used:** league of legends worlds.\n",
    "\n",
    "today we gonna explore how we can build a simple dashboard that allow us to explore the data easily and faster than using powerbi or tabluea to create a proper dashboard.\n",
    "\n",
    "it's quite simple to do it! \n",
    "\n",
    "so, Let's import our dataset and see!\n"
   ]
  },
  {
   "cell_type": "markdown",
   "id": "1f643ba9",
   "metadata": {
    "papermill": {
     "duration": 0.010529,
     "end_time": "2024-10-27T10:20:48.122986",
     "exception": false,
     "start_time": "2024-10-27T10:20:48.112457",
     "status": "completed"
    },
    "tags": []
   },
   "source": [
    "# Import & Explore"
   ]
  },
  {
   "cell_type": "code",
   "execution_count": 3,
   "id": "0fef04e5",
   "metadata": {
    "execution": {
     "iopub.execute_input": "2024-10-27T10:20:48.146410Z",
     "iopub.status.busy": "2024-10-27T10:20:48.145812Z",
     "iopub.status.idle": "2024-10-27T10:20:49.146538Z",
     "shell.execute_reply": "2024-10-27T10:20:49.145261Z"
    },
    "papermill": {
     "duration": 1.015664,
     "end_time": "2024-10-27T10:20:49.149247",
     "exception": false,
     "start_time": "2024-10-27T10:20:48.133583",
     "status": "completed"
    },
    "tags": []
   },
   "outputs": [],
   "source": [
    "import pandas as pd\n",
    "import numpy as np"
   ]
  },
  {
   "cell_type": "code",
   "execution_count": 4,
   "id": "01877928",
   "metadata": {
    "execution": {
     "iopub.execute_input": "2024-10-27T10:20:49.203615Z",
     "iopub.status.busy": "2024-10-27T10:20:49.203105Z",
     "iopub.status.idle": "2024-10-27T10:20:49.225084Z",
     "shell.execute_reply": "2024-10-27T10:20:49.223966Z"
    },
    "jupyter": {
     "source_hidden": true
    },
    "papermill": {
     "duration": 0.036798,
     "end_time": "2024-10-27T10:20:49.228096",
     "exception": false,
     "start_time": "2024-10-27T10:20:49.191298",
     "status": "completed"
    },
    "tags": []
   },
   "outputs": [],
   "source": [
    "df = pd.read_csv(\"champions.csv\")"
   ]
  },
  {
   "cell_type": "code",
   "execution_count": 5,
   "id": "2c6e93f7",
   "metadata": {
    "execution": {
     "iopub.execute_input": "2024-10-27T10:20:49.251595Z",
     "iopub.status.busy": "2024-10-27T10:20:49.251111Z",
     "iopub.status.idle": "2024-10-27T10:20:49.288005Z",
     "shell.execute_reply": "2024-10-27T10:20:49.286509Z"
    },
    "jupyter": {
     "source_hidden": true
    },
    "papermill": {
     "duration": 0.051751,
     "end_time": "2024-10-27T10:20:49.290717",
     "exception": false,
     "start_time": "2024-10-27T10:20:49.238966",
     "status": "completed"
    },
    "tags": []
   },
   "outputs": [
    {
     "name": "stdout",
     "output_type": "stream",
     "text": [
      "<class 'pandas.core.frame.DataFrame'>\n",
      "RangeIndex: 168 entries, 0 to 167\n",
      "Data columns (total 16 columns):\n",
      " #   Column    Non-Null Count  Dtype  \n",
      "---  ------    --------------  -----  \n",
      " 0   Champion  168 non-null    object \n",
      " 1   Picks     168 non-null    int64  \n",
      " 2   Bans      168 non-null    int64  \n",
      " 3   Presence  168 non-null    object \n",
      " 4   Wins      64 non-null     float64\n",
      " 5   Losses    64 non-null     float64\n",
      " 6   Winrate   64 non-null     object \n",
      " 7   KDA       64 non-null     float64\n",
      " 8   Avg BT    168 non-null    object \n",
      " 9   GT        64 non-null     object \n",
      " 10  CSM       64 non-null     float64\n",
      " 11  DPM       64 non-null     float64\n",
      " 12  GPM       64 non-null     float64\n",
      " 13  CSD@15    64 non-null     float64\n",
      " 14  GD@15     64 non-null     float64\n",
      " 15  XPD@15    64 non-null     float64\n",
      "dtypes: float64(9), int64(2), object(5)\n",
      "memory usage: 21.1+ KB\n"
     ]
    }
   ],
   "source": [
    "df.info()"
   ]
  },
  {
   "cell_type": "code",
   "execution_count": 6,
   "id": "0d785399",
   "metadata": {
    "execution": {
     "iopub.execute_input": "2024-10-27T10:20:49.316114Z",
     "iopub.status.busy": "2024-10-27T10:20:49.315186Z",
     "iopub.status.idle": "2024-10-27T10:20:49.374806Z",
     "shell.execute_reply": "2024-10-27T10:20:49.373541Z"
    },
    "jupyter": {
     "source_hidden": true
    },
    "papermill": {
     "duration": 0.076135,
     "end_time": "2024-10-27T10:20:49.377669",
     "exception": false,
     "start_time": "2024-10-27T10:20:49.301534",
     "status": "completed"
    },
    "tags": []
   },
   "outputs": [
    {
     "data": {
      "text/html": [
       "<div>\n",
       "<style scoped>\n",
       "    .dataframe tbody tr th:only-of-type {\n",
       "        vertical-align: middle;\n",
       "    }\n",
       "\n",
       "    .dataframe tbody tr th {\n",
       "        vertical-align: top;\n",
       "    }\n",
       "\n",
       "    .dataframe thead th {\n",
       "        text-align: right;\n",
       "    }\n",
       "</style>\n",
       "<table border=\"1\" class=\"dataframe\">\n",
       "  <thead>\n",
       "    <tr style=\"text-align: right;\">\n",
       "      <th></th>\n",
       "      <th>Picks</th>\n",
       "      <th>Bans</th>\n",
       "      <th>Wins</th>\n",
       "      <th>Losses</th>\n",
       "      <th>KDA</th>\n",
       "      <th>CSM</th>\n",
       "      <th>DPM</th>\n",
       "      <th>GPM</th>\n",
       "      <th>CSD@15</th>\n",
       "      <th>GD@15</th>\n",
       "      <th>XPD@15</th>\n",
       "    </tr>\n",
       "  </thead>\n",
       "  <tbody>\n",
       "    <tr>\n",
       "      <th>count</th>\n",
       "      <td>168.000000</td>\n",
       "      <td>168.000000</td>\n",
       "      <td>64.000000</td>\n",
       "      <td>64.000000</td>\n",
       "      <td>64.000000</td>\n",
       "      <td>64.000000</td>\n",
       "      <td>64.000000</td>\n",
       "      <td>64.000000</td>\n",
       "      <td>64.000000</td>\n",
       "      <td>64.000000</td>\n",
       "      <td>64.000000</td>\n",
       "    </tr>\n",
       "    <tr>\n",
       "      <th>mean</th>\n",
       "      <td>2.321429</td>\n",
       "      <td>2.315476</td>\n",
       "      <td>3.046875</td>\n",
       "      <td>3.046875</td>\n",
       "      <td>5.020313</td>\n",
       "      <td>7.078125</td>\n",
       "      <td>516.140625</td>\n",
       "      <td>380.890625</td>\n",
       "      <td>1.453125</td>\n",
       "      <td>85.531250</td>\n",
       "      <td>28.281250</td>\n",
       "    </tr>\n",
       "    <tr>\n",
       "      <th>std</th>\n",
       "      <td>4.549556</td>\n",
       "      <td>5.030613</td>\n",
       "      <td>3.470646</td>\n",
       "      <td>2.774199</td>\n",
       "      <td>4.188161</td>\n",
       "      <td>2.694407</td>\n",
       "      <td>227.381357</td>\n",
       "      <td>73.080542</td>\n",
       "      <td>11.518019</td>\n",
       "      <td>568.744732</td>\n",
       "      <td>527.419247</td>\n",
       "    </tr>\n",
       "    <tr>\n",
       "      <th>min</th>\n",
       "      <td>0.000000</td>\n",
       "      <td>0.000000</td>\n",
       "      <td>0.000000</td>\n",
       "      <td>0.000000</td>\n",
       "      <td>0.900000</td>\n",
       "      <td>1.000000</td>\n",
       "      <td>114.000000</td>\n",
       "      <td>209.000000</td>\n",
       "      <td>-28.000000</td>\n",
       "      <td>-1259.000000</td>\n",
       "      <td>-1260.000000</td>\n",
       "    </tr>\n",
       "    <tr>\n",
       "      <th>25%</th>\n",
       "      <td>0.000000</td>\n",
       "      <td>0.000000</td>\n",
       "      <td>1.000000</td>\n",
       "      <td>1.000000</td>\n",
       "      <td>2.575000</td>\n",
       "      <td>6.175000</td>\n",
       "      <td>368.750000</td>\n",
       "      <td>346.500000</td>\n",
       "      <td>-5.525000</td>\n",
       "      <td>-219.750000</td>\n",
       "      <td>-302.250000</td>\n",
       "    </tr>\n",
       "    <tr>\n",
       "      <th>50%</th>\n",
       "      <td>0.000000</td>\n",
       "      <td>0.000000</td>\n",
       "      <td>2.000000</td>\n",
       "      <td>2.500000</td>\n",
       "      <td>3.600000</td>\n",
       "      <td>7.850000</td>\n",
       "      <td>510.000000</td>\n",
       "      <td>389.000000</td>\n",
       "      <td>0.900000</td>\n",
       "      <td>76.000000</td>\n",
       "      <td>2.000000</td>\n",
       "    </tr>\n",
       "    <tr>\n",
       "      <th>75%</th>\n",
       "      <td>3.000000</td>\n",
       "      <td>1.000000</td>\n",
       "      <td>4.250000</td>\n",
       "      <td>5.000000</td>\n",
       "      <td>5.975000</td>\n",
       "      <td>8.825000</td>\n",
       "      <td>672.000000</td>\n",
       "      <td>431.000000</td>\n",
       "      <td>5.575000</td>\n",
       "      <td>384.000000</td>\n",
       "      <td>378.750000</td>\n",
       "    </tr>\n",
       "    <tr>\n",
       "      <th>max</th>\n",
       "      <td>26.000000</td>\n",
       "      <td>30.000000</td>\n",
       "      <td>15.000000</td>\n",
       "      <td>11.000000</td>\n",
       "      <td>21.000000</td>\n",
       "      <td>10.400000</td>\n",
       "      <td>1063.000000</td>\n",
       "      <td>512.000000</td>\n",
       "      <td>30.000000</td>\n",
       "      <td>1976.000000</td>\n",
       "      <td>1302.000000</td>\n",
       "    </tr>\n",
       "  </tbody>\n",
       "</table>\n",
       "</div>"
      ],
      "text/plain": [
       "            Picks        Bans       Wins     Losses        KDA        CSM  \\\n",
       "count  168.000000  168.000000  64.000000  64.000000  64.000000  64.000000   \n",
       "mean     2.321429    2.315476   3.046875   3.046875   5.020313   7.078125   \n",
       "std      4.549556    5.030613   3.470646   2.774199   4.188161   2.694407   \n",
       "min      0.000000    0.000000   0.000000   0.000000   0.900000   1.000000   \n",
       "25%      0.000000    0.000000   1.000000   1.000000   2.575000   6.175000   \n",
       "50%      0.000000    0.000000   2.000000   2.500000   3.600000   7.850000   \n",
       "75%      3.000000    1.000000   4.250000   5.000000   5.975000   8.825000   \n",
       "max     26.000000   30.000000  15.000000  11.000000  21.000000  10.400000   \n",
       "\n",
       "               DPM         GPM     CSD@15        GD@15       XPD@15  \n",
       "count    64.000000   64.000000  64.000000    64.000000    64.000000  \n",
       "mean    516.140625  380.890625   1.453125    85.531250    28.281250  \n",
       "std     227.381357   73.080542  11.518019   568.744732   527.419247  \n",
       "min     114.000000  209.000000 -28.000000 -1259.000000 -1260.000000  \n",
       "25%     368.750000  346.500000  -5.525000  -219.750000  -302.250000  \n",
       "50%     510.000000  389.000000   0.900000    76.000000     2.000000  \n",
       "75%     672.000000  431.000000   5.575000   384.000000   378.750000  \n",
       "max    1063.000000  512.000000  30.000000  1976.000000  1302.000000  "
      ]
     },
     "execution_count": 6,
     "metadata": {},
     "output_type": "execute_result"
    }
   ],
   "source": [
    "df.describe()"
   ]
  },
  {
   "cell_type": "code",
   "execution_count": 7,
   "id": "bfc62300",
   "metadata": {
    "execution": {
     "iopub.execute_input": "2024-10-27T10:20:49.402124Z",
     "iopub.status.busy": "2024-10-27T10:20:49.401687Z",
     "iopub.status.idle": "2024-10-27T10:20:49.428409Z",
     "shell.execute_reply": "2024-10-27T10:20:49.427286Z"
    },
    "jupyter": {
     "source_hidden": true
    },
    "papermill": {
     "duration": 0.042009,
     "end_time": "2024-10-27T10:20:49.431282",
     "exception": false,
     "start_time": "2024-10-27T10:20:49.389273",
     "status": "completed"
    },
    "tags": []
   },
   "outputs": [
    {
     "data": {
      "text/html": [
       "<div>\n",
       "<style scoped>\n",
       "    .dataframe tbody tr th:only-of-type {\n",
       "        vertical-align: middle;\n",
       "    }\n",
       "\n",
       "    .dataframe tbody tr th {\n",
       "        vertical-align: top;\n",
       "    }\n",
       "\n",
       "    .dataframe thead th {\n",
       "        text-align: right;\n",
       "    }\n",
       "</style>\n",
       "<table border=\"1\" class=\"dataframe\">\n",
       "  <thead>\n",
       "    <tr style=\"text-align: right;\">\n",
       "      <th></th>\n",
       "      <th>Champion</th>\n",
       "      <th>Picks</th>\n",
       "      <th>Bans</th>\n",
       "      <th>Presence</th>\n",
       "      <th>Wins</th>\n",
       "      <th>Losses</th>\n",
       "      <th>Winrate</th>\n",
       "      <th>KDA</th>\n",
       "      <th>Avg BT</th>\n",
       "      <th>GT</th>\n",
       "      <th>CSM</th>\n",
       "      <th>DPM</th>\n",
       "      <th>GPM</th>\n",
       "      <th>CSD@15</th>\n",
       "      <th>GD@15</th>\n",
       "      <th>XPD@15</th>\n",
       "    </tr>\n",
       "  </thead>\n",
       "  <tbody>\n",
       "    <tr>\n",
       "      <th>0</th>\n",
       "      <td>Aurora</td>\n",
       "      <td>9</td>\n",
       "      <td>30</td>\n",
       "      <td>100%</td>\n",
       "      <td>7.0</td>\n",
       "      <td>2.0</td>\n",
       "      <td>78%</td>\n",
       "      <td>6.6</td>\n",
       "      <td>3.6</td>\n",
       "      <td>32:52:00</td>\n",
       "      <td>7.9</td>\n",
       "      <td>678.0</td>\n",
       "      <td>402.0</td>\n",
       "      <td>0.6</td>\n",
       "      <td>76.0</td>\n",
       "      <td>-10.0</td>\n",
       "    </tr>\n",
       "    <tr>\n",
       "      <th>1</th>\n",
       "      <td>Yone</td>\n",
       "      <td>18</td>\n",
       "      <td>19</td>\n",
       "      <td>95%</td>\n",
       "      <td>13.0</td>\n",
       "      <td>5.0</td>\n",
       "      <td>72%</td>\n",
       "      <td>4.4</td>\n",
       "      <td>3.2</td>\n",
       "      <td>32:14:00</td>\n",
       "      <td>9.6</td>\n",
       "      <td>711.0</td>\n",
       "      <td>451.0</td>\n",
       "      <td>6.7</td>\n",
       "      <td>434.0</td>\n",
       "      <td>372.0</td>\n",
       "    </tr>\n",
       "    <tr>\n",
       "      <th>2</th>\n",
       "      <td>Rell</td>\n",
       "      <td>26</td>\n",
       "      <td>5</td>\n",
       "      <td>79%</td>\n",
       "      <td>15.0</td>\n",
       "      <td>11.0</td>\n",
       "      <td>58%</td>\n",
       "      <td>3.0</td>\n",
       "      <td>8.8</td>\n",
       "      <td>34:22:00</td>\n",
       "      <td>1.0</td>\n",
       "      <td>144.0</td>\n",
       "      <td>247.0</td>\n",
       "      <td>-0.5</td>\n",
       "      <td>11.0</td>\n",
       "      <td>-58.0</td>\n",
       "    </tr>\n",
       "    <tr>\n",
       "      <th>3</th>\n",
       "      <td>Jax</td>\n",
       "      <td>15</td>\n",
       "      <td>15</td>\n",
       "      <td>77%</td>\n",
       "      <td>6.0</td>\n",
       "      <td>9.0</td>\n",
       "      <td>40%</td>\n",
       "      <td>2.6</td>\n",
       "      <td>5</td>\n",
       "      <td>35:00:00</td>\n",
       "      <td>7.8</td>\n",
       "      <td>403.0</td>\n",
       "      <td>396.0</td>\n",
       "      <td>-8.9</td>\n",
       "      <td>-128.0</td>\n",
       "      <td>-201.0</td>\n",
       "    </tr>\n",
       "    <tr>\n",
       "      <th>4</th>\n",
       "      <td>Skarner</td>\n",
       "      <td>13</td>\n",
       "      <td>17</td>\n",
       "      <td>77%</td>\n",
       "      <td>7.0</td>\n",
       "      <td>6.0</td>\n",
       "      <td>54%</td>\n",
       "      <td>3.9</td>\n",
       "      <td>4</td>\n",
       "      <td>31:48:00</td>\n",
       "      <td>5.8</td>\n",
       "      <td>372.0</td>\n",
       "      <td>332.0</td>\n",
       "      <td>2.4</td>\n",
       "      <td>77.0</td>\n",
       "      <td>77.0</td>\n",
       "    </tr>\n",
       "  </tbody>\n",
       "</table>\n",
       "</div>"
      ],
      "text/plain": [
       "   Champion  Picks  Bans Presence  Wins  Losses Winrate  KDA Avg BT        GT  \\\n",
       "0    Aurora      9    30     100%   7.0     2.0     78%  6.6    3.6  32:52:00   \n",
       "1      Yone     18    19      95%  13.0     5.0     72%  4.4    3.2  32:14:00   \n",
       "2      Rell     26     5      79%  15.0    11.0     58%  3.0    8.8  34:22:00   \n",
       "3       Jax     15    15      77%   6.0     9.0     40%  2.6      5  35:00:00   \n",
       "4   Skarner     13    17      77%   7.0     6.0     54%  3.9      4  31:48:00   \n",
       "\n",
       "   CSM    DPM    GPM  CSD@15  GD@15  XPD@15  \n",
       "0  7.9  678.0  402.0     0.6   76.0   -10.0  \n",
       "1  9.6  711.0  451.0     6.7  434.0   372.0  \n",
       "2  1.0  144.0  247.0    -0.5   11.0   -58.0  \n",
       "3  7.8  403.0  396.0    -8.9 -128.0  -201.0  \n",
       "4  5.8  372.0  332.0     2.4   77.0    77.0  "
      ]
     },
     "execution_count": 7,
     "metadata": {},
     "output_type": "execute_result"
    }
   ],
   "source": [
    "df.head()"
   ]
  },
  {
   "cell_type": "code",
   "execution_count": 8,
   "id": "3cba2d92",
   "metadata": {
    "execution": {
     "iopub.execute_input": "2024-10-27T10:20:49.457247Z",
     "iopub.status.busy": "2024-10-27T10:20:49.456777Z",
     "iopub.status.idle": "2024-10-27T10:20:49.467343Z",
     "shell.execute_reply": "2024-10-27T10:20:49.465985Z"
    },
    "jupyter": {
     "source_hidden": true
    },
    "papermill": {
     "duration": 0.02621,
     "end_time": "2024-10-27T10:20:49.470041",
     "exception": false,
     "start_time": "2024-10-27T10:20:49.443831",
     "status": "completed"
    },
    "tags": []
   },
   "outputs": [
    {
     "data": {
      "text/plain": [
       "Champion      0\n",
       "Picks         0\n",
       "Bans          0\n",
       "Presence      0\n",
       "Wins        104\n",
       "Losses      104\n",
       "Winrate     104\n",
       "KDA         104\n",
       "Avg BT        0\n",
       "GT          104\n",
       "CSM         104\n",
       "DPM         104\n",
       "GPM         104\n",
       "CSD@15      104\n",
       "GD@15       104\n",
       "XPD@15      104\n",
       "dtype: int64"
      ]
     },
     "execution_count": 8,
     "metadata": {},
     "output_type": "execute_result"
    }
   ],
   "source": [
    "df.isna().sum()"
   ]
  },
  {
   "cell_type": "markdown",
   "id": "7d2fbf9a",
   "metadata": {
    "papermill": {
     "duration": 0.011424,
     "end_time": "2024-10-27T10:20:49.493214",
     "exception": false,
     "start_time": "2024-10-27T10:20:49.481790",
     "status": "completed"
    },
    "tags": []
   },
   "source": [
    "# Data Cleaning"
   ]
  },
  {
   "cell_type": "markdown",
   "id": "7b658667",
   "metadata": {
    "papermill": {
     "duration": 0.011843,
     "end_time": "2024-10-27T10:20:49.516860",
     "exception": false,
     "start_time": "2024-10-27T10:20:49.505017",
     "status": "completed"
    },
    "tags": []
   },
   "source": [
    "Hmmm! it looks like we need to take care of the missing values first.\n",
    "\n",
    "let's see the rows that contain nan values how it looks like first."
   ]
  },
  {
   "cell_type": "code",
   "execution_count": 9,
   "id": "ea88352e",
   "metadata": {
    "execution": {
     "iopub.execute_input": "2024-10-27T10:20:49.542135Z",
     "iopub.status.busy": "2024-10-27T10:20:49.541662Z",
     "iopub.status.idle": "2024-10-27T10:20:49.568618Z",
     "shell.execute_reply": "2024-10-27T10:20:49.567142Z"
    },
    "jupyter": {
     "source_hidden": true
    },
    "papermill": {
     "duration": 0.042674,
     "end_time": "2024-10-27T10:20:49.571204",
     "exception": false,
     "start_time": "2024-10-27T10:20:49.528530",
     "status": "completed"
    },
    "tags": []
   },
   "outputs": [
    {
     "data": {
      "text/html": [
       "<div>\n",
       "<style scoped>\n",
       "    .dataframe tbody tr th:only-of-type {\n",
       "        vertical-align: middle;\n",
       "    }\n",
       "\n",
       "    .dataframe tbody tr th {\n",
       "        vertical-align: top;\n",
       "    }\n",
       "\n",
       "    .dataframe thead th {\n",
       "        text-align: right;\n",
       "    }\n",
       "</style>\n",
       "<table border=\"1\" class=\"dataframe\">\n",
       "  <thead>\n",
       "    <tr style=\"text-align: right;\">\n",
       "      <th></th>\n",
       "      <th>Champion</th>\n",
       "      <th>Picks</th>\n",
       "      <th>Bans</th>\n",
       "      <th>Presence</th>\n",
       "      <th>Wins</th>\n",
       "      <th>Losses</th>\n",
       "      <th>Winrate</th>\n",
       "      <th>KDA</th>\n",
       "      <th>Avg BT</th>\n",
       "      <th>GT</th>\n",
       "      <th>CSM</th>\n",
       "      <th>DPM</th>\n",
       "      <th>GPM</th>\n",
       "      <th>CSD@15</th>\n",
       "      <th>GD@15</th>\n",
       "      <th>XPD@15</th>\n",
       "    </tr>\n",
       "  </thead>\n",
       "  <tbody>\n",
       "    <tr>\n",
       "      <th>0</th>\n",
       "      <td>False</td>\n",
       "      <td>False</td>\n",
       "      <td>False</td>\n",
       "      <td>False</td>\n",
       "      <td>False</td>\n",
       "      <td>False</td>\n",
       "      <td>False</td>\n",
       "      <td>False</td>\n",
       "      <td>False</td>\n",
       "      <td>False</td>\n",
       "      <td>False</td>\n",
       "      <td>False</td>\n",
       "      <td>False</td>\n",
       "      <td>False</td>\n",
       "      <td>False</td>\n",
       "      <td>False</td>\n",
       "    </tr>\n",
       "    <tr>\n",
       "      <th>1</th>\n",
       "      <td>False</td>\n",
       "      <td>False</td>\n",
       "      <td>False</td>\n",
       "      <td>False</td>\n",
       "      <td>False</td>\n",
       "      <td>False</td>\n",
       "      <td>False</td>\n",
       "      <td>False</td>\n",
       "      <td>False</td>\n",
       "      <td>False</td>\n",
       "      <td>False</td>\n",
       "      <td>False</td>\n",
       "      <td>False</td>\n",
       "      <td>False</td>\n",
       "      <td>False</td>\n",
       "      <td>False</td>\n",
       "    </tr>\n",
       "    <tr>\n",
       "      <th>2</th>\n",
       "      <td>False</td>\n",
       "      <td>False</td>\n",
       "      <td>False</td>\n",
       "      <td>False</td>\n",
       "      <td>False</td>\n",
       "      <td>False</td>\n",
       "      <td>False</td>\n",
       "      <td>False</td>\n",
       "      <td>False</td>\n",
       "      <td>False</td>\n",
       "      <td>False</td>\n",
       "      <td>False</td>\n",
       "      <td>False</td>\n",
       "      <td>False</td>\n",
       "      <td>False</td>\n",
       "      <td>False</td>\n",
       "    </tr>\n",
       "    <tr>\n",
       "      <th>3</th>\n",
       "      <td>False</td>\n",
       "      <td>False</td>\n",
       "      <td>False</td>\n",
       "      <td>False</td>\n",
       "      <td>False</td>\n",
       "      <td>False</td>\n",
       "      <td>False</td>\n",
       "      <td>False</td>\n",
       "      <td>False</td>\n",
       "      <td>False</td>\n",
       "      <td>False</td>\n",
       "      <td>False</td>\n",
       "      <td>False</td>\n",
       "      <td>False</td>\n",
       "      <td>False</td>\n",
       "      <td>False</td>\n",
       "    </tr>\n",
       "    <tr>\n",
       "      <th>4</th>\n",
       "      <td>False</td>\n",
       "      <td>False</td>\n",
       "      <td>False</td>\n",
       "      <td>False</td>\n",
       "      <td>False</td>\n",
       "      <td>False</td>\n",
       "      <td>False</td>\n",
       "      <td>False</td>\n",
       "      <td>False</td>\n",
       "      <td>False</td>\n",
       "      <td>False</td>\n",
       "      <td>False</td>\n",
       "      <td>False</td>\n",
       "      <td>False</td>\n",
       "      <td>False</td>\n",
       "      <td>False</td>\n",
       "    </tr>\n",
       "    <tr>\n",
       "      <th>...</th>\n",
       "      <td>...</td>\n",
       "      <td>...</td>\n",
       "      <td>...</td>\n",
       "      <td>...</td>\n",
       "      <td>...</td>\n",
       "      <td>...</td>\n",
       "      <td>...</td>\n",
       "      <td>...</td>\n",
       "      <td>...</td>\n",
       "      <td>...</td>\n",
       "      <td>...</td>\n",
       "      <td>...</td>\n",
       "      <td>...</td>\n",
       "      <td>...</td>\n",
       "      <td>...</td>\n",
       "      <td>...</td>\n",
       "    </tr>\n",
       "    <tr>\n",
       "      <th>163</th>\n",
       "      <td>False</td>\n",
       "      <td>False</td>\n",
       "      <td>False</td>\n",
       "      <td>False</td>\n",
       "      <td>True</td>\n",
       "      <td>True</td>\n",
       "      <td>True</td>\n",
       "      <td>True</td>\n",
       "      <td>False</td>\n",
       "      <td>True</td>\n",
       "      <td>True</td>\n",
       "      <td>True</td>\n",
       "      <td>True</td>\n",
       "      <td>True</td>\n",
       "      <td>True</td>\n",
       "      <td>True</td>\n",
       "    </tr>\n",
       "    <tr>\n",
       "      <th>164</th>\n",
       "      <td>False</td>\n",
       "      <td>False</td>\n",
       "      <td>False</td>\n",
       "      <td>False</td>\n",
       "      <td>True</td>\n",
       "      <td>True</td>\n",
       "      <td>True</td>\n",
       "      <td>True</td>\n",
       "      <td>False</td>\n",
       "      <td>True</td>\n",
       "      <td>True</td>\n",
       "      <td>True</td>\n",
       "      <td>True</td>\n",
       "      <td>True</td>\n",
       "      <td>True</td>\n",
       "      <td>True</td>\n",
       "    </tr>\n",
       "    <tr>\n",
       "      <th>165</th>\n",
       "      <td>False</td>\n",
       "      <td>False</td>\n",
       "      <td>False</td>\n",
       "      <td>False</td>\n",
       "      <td>True</td>\n",
       "      <td>True</td>\n",
       "      <td>True</td>\n",
       "      <td>True</td>\n",
       "      <td>False</td>\n",
       "      <td>True</td>\n",
       "      <td>True</td>\n",
       "      <td>True</td>\n",
       "      <td>True</td>\n",
       "      <td>True</td>\n",
       "      <td>True</td>\n",
       "      <td>True</td>\n",
       "    </tr>\n",
       "    <tr>\n",
       "      <th>166</th>\n",
       "      <td>False</td>\n",
       "      <td>False</td>\n",
       "      <td>False</td>\n",
       "      <td>False</td>\n",
       "      <td>True</td>\n",
       "      <td>True</td>\n",
       "      <td>True</td>\n",
       "      <td>True</td>\n",
       "      <td>False</td>\n",
       "      <td>True</td>\n",
       "      <td>True</td>\n",
       "      <td>True</td>\n",
       "      <td>True</td>\n",
       "      <td>True</td>\n",
       "      <td>True</td>\n",
       "      <td>True</td>\n",
       "    </tr>\n",
       "    <tr>\n",
       "      <th>167</th>\n",
       "      <td>False</td>\n",
       "      <td>False</td>\n",
       "      <td>False</td>\n",
       "      <td>False</td>\n",
       "      <td>True</td>\n",
       "      <td>True</td>\n",
       "      <td>True</td>\n",
       "      <td>True</td>\n",
       "      <td>False</td>\n",
       "      <td>True</td>\n",
       "      <td>True</td>\n",
       "      <td>True</td>\n",
       "      <td>True</td>\n",
       "      <td>True</td>\n",
       "      <td>True</td>\n",
       "      <td>True</td>\n",
       "    </tr>\n",
       "  </tbody>\n",
       "</table>\n",
       "<p>168 rows × 16 columns</p>\n",
       "</div>"
      ],
      "text/plain": [
       "     Champion  Picks   Bans  Presence   Wins  Losses  Winrate    KDA  Avg BT  \\\n",
       "0       False  False  False     False  False   False    False  False   False   \n",
       "1       False  False  False     False  False   False    False  False   False   \n",
       "2       False  False  False     False  False   False    False  False   False   \n",
       "3       False  False  False     False  False   False    False  False   False   \n",
       "4       False  False  False     False  False   False    False  False   False   \n",
       "..        ...    ...    ...       ...    ...     ...      ...    ...     ...   \n",
       "163     False  False  False     False   True    True     True   True   False   \n",
       "164     False  False  False     False   True    True     True   True   False   \n",
       "165     False  False  False     False   True    True     True   True   False   \n",
       "166     False  False  False     False   True    True     True   True   False   \n",
       "167     False  False  False     False   True    True     True   True   False   \n",
       "\n",
       "        GT    CSM    DPM    GPM  CSD@15  GD@15  XPD@15  \n",
       "0    False  False  False  False   False  False   False  \n",
       "1    False  False  False  False   False  False   False  \n",
       "2    False  False  False  False   False  False   False  \n",
       "3    False  False  False  False   False  False   False  \n",
       "4    False  False  False  False   False  False   False  \n",
       "..     ...    ...    ...    ...     ...    ...     ...  \n",
       "163   True   True   True   True    True   True    True  \n",
       "164   True   True   True   True    True   True    True  \n",
       "165   True   True   True   True    True   True    True  \n",
       "166   True   True   True   True    True   True    True  \n",
       "167   True   True   True   True    True   True    True  \n",
       "\n",
       "[168 rows x 16 columns]"
      ]
     },
     "execution_count": 9,
     "metadata": {},
     "output_type": "execute_result"
    }
   ],
   "source": [
    "df.isna()"
   ]
  },
  {
   "cell_type": "markdown",
   "id": "3f914aa2",
   "metadata": {
    "papermill": {
     "duration": 0.011862,
     "end_time": "2024-10-27T10:20:49.595382",
     "exception": false,
     "start_time": "2024-10-27T10:20:49.583520",
     "status": "completed"
    },
    "tags": []
   },
   "source": [
    "so let's observe 163 to 167 rows "
   ]
  },
  {
   "cell_type": "code",
   "execution_count": 10,
   "id": "390122a6",
   "metadata": {
    "execution": {
     "iopub.execute_input": "2024-10-27T10:20:49.621940Z",
     "iopub.status.busy": "2024-10-27T10:20:49.621481Z",
     "iopub.status.idle": "2024-10-27T10:20:49.644314Z",
     "shell.execute_reply": "2024-10-27T10:20:49.643195Z"
    },
    "jupyter": {
     "source_hidden": true
    },
    "papermill": {
     "duration": 0.039139,
     "end_time": "2024-10-27T10:20:49.646995",
     "exception": false,
     "start_time": "2024-10-27T10:20:49.607856",
     "status": "completed"
    },
    "tags": []
   },
   "outputs": [
    {
     "data": {
      "text/html": [
       "<div>\n",
       "<style scoped>\n",
       "    .dataframe tbody tr th:only-of-type {\n",
       "        vertical-align: middle;\n",
       "    }\n",
       "\n",
       "    .dataframe tbody tr th {\n",
       "        vertical-align: top;\n",
       "    }\n",
       "\n",
       "    .dataframe thead th {\n",
       "        text-align: right;\n",
       "    }\n",
       "</style>\n",
       "<table border=\"1\" class=\"dataframe\">\n",
       "  <thead>\n",
       "    <tr style=\"text-align: right;\">\n",
       "      <th></th>\n",
       "      <th>Champion</th>\n",
       "      <th>Picks</th>\n",
       "      <th>Bans</th>\n",
       "      <th>Presence</th>\n",
       "      <th>Wins</th>\n",
       "      <th>Losses</th>\n",
       "      <th>Winrate</th>\n",
       "      <th>KDA</th>\n",
       "      <th>Avg BT</th>\n",
       "      <th>GT</th>\n",
       "      <th>CSM</th>\n",
       "      <th>DPM</th>\n",
       "      <th>GPM</th>\n",
       "      <th>CSD@15</th>\n",
       "      <th>GD@15</th>\n",
       "      <th>XPD@15</th>\n",
       "    </tr>\n",
       "  </thead>\n",
       "  <tbody>\n",
       "    <tr>\n",
       "      <th>163</th>\n",
       "      <td>Belveth</td>\n",
       "      <td>0</td>\n",
       "      <td>0</td>\n",
       "      <td>0%</td>\n",
       "      <td>NaN</td>\n",
       "      <td>NaN</td>\n",
       "      <td>NaN</td>\n",
       "      <td>NaN</td>\n",
       "      <td>-</td>\n",
       "      <td>NaN</td>\n",
       "      <td>NaN</td>\n",
       "      <td>NaN</td>\n",
       "      <td>NaN</td>\n",
       "      <td>NaN</td>\n",
       "      <td>NaN</td>\n",
       "      <td>NaN</td>\n",
       "    </tr>\n",
       "    <tr>\n",
       "      <th>164</th>\n",
       "      <td>Nilah</td>\n",
       "      <td>0</td>\n",
       "      <td>0</td>\n",
       "      <td>0%</td>\n",
       "      <td>NaN</td>\n",
       "      <td>NaN</td>\n",
       "      <td>NaN</td>\n",
       "      <td>NaN</td>\n",
       "      <td>-</td>\n",
       "      <td>NaN</td>\n",
       "      <td>NaN</td>\n",
       "      <td>NaN</td>\n",
       "      <td>NaN</td>\n",
       "      <td>NaN</td>\n",
       "      <td>NaN</td>\n",
       "      <td>NaN</td>\n",
       "    </tr>\n",
       "    <tr>\n",
       "      <th>165</th>\n",
       "      <td>Milio</td>\n",
       "      <td>0</td>\n",
       "      <td>0</td>\n",
       "      <td>0%</td>\n",
       "      <td>NaN</td>\n",
       "      <td>NaN</td>\n",
       "      <td>NaN</td>\n",
       "      <td>NaN</td>\n",
       "      <td>-</td>\n",
       "      <td>NaN</td>\n",
       "      <td>NaN</td>\n",
       "      <td>NaN</td>\n",
       "      <td>NaN</td>\n",
       "      <td>NaN</td>\n",
       "      <td>NaN</td>\n",
       "      <td>NaN</td>\n",
       "    </tr>\n",
       "    <tr>\n",
       "      <th>166</th>\n",
       "      <td>Naafiri</td>\n",
       "      <td>0</td>\n",
       "      <td>0</td>\n",
       "      <td>0%</td>\n",
       "      <td>NaN</td>\n",
       "      <td>NaN</td>\n",
       "      <td>NaN</td>\n",
       "      <td>NaN</td>\n",
       "      <td>-</td>\n",
       "      <td>NaN</td>\n",
       "      <td>NaN</td>\n",
       "      <td>NaN</td>\n",
       "      <td>NaN</td>\n",
       "      <td>NaN</td>\n",
       "      <td>NaN</td>\n",
       "      <td>NaN</td>\n",
       "    </tr>\n",
       "    <tr>\n",
       "      <th>167</th>\n",
       "      <td>Briar</td>\n",
       "      <td>0</td>\n",
       "      <td>0</td>\n",
       "      <td>0%</td>\n",
       "      <td>NaN</td>\n",
       "      <td>NaN</td>\n",
       "      <td>NaN</td>\n",
       "      <td>NaN</td>\n",
       "      <td>-</td>\n",
       "      <td>NaN</td>\n",
       "      <td>NaN</td>\n",
       "      <td>NaN</td>\n",
       "      <td>NaN</td>\n",
       "      <td>NaN</td>\n",
       "      <td>NaN</td>\n",
       "      <td>NaN</td>\n",
       "    </tr>\n",
       "  </tbody>\n",
       "</table>\n",
       "</div>"
      ],
      "text/plain": [
       "     Champion  Picks  Bans Presence  Wins  Losses Winrate  KDA Avg BT   GT  \\\n",
       "163   Belveth      0     0       0%   NaN     NaN     NaN  NaN      -  NaN   \n",
       "164     Nilah      0     0       0%   NaN     NaN     NaN  NaN      -  NaN   \n",
       "165     Milio      0     0       0%   NaN     NaN     NaN  NaN      -  NaN   \n",
       "166   Naafiri      0     0       0%   NaN     NaN     NaN  NaN      -  NaN   \n",
       "167     Briar      0     0       0%   NaN     NaN     NaN  NaN      -  NaN   \n",
       "\n",
       "     CSM  DPM  GPM  CSD@15  GD@15  XPD@15  \n",
       "163  NaN  NaN  NaN     NaN    NaN     NaN  \n",
       "164  NaN  NaN  NaN     NaN    NaN     NaN  \n",
       "165  NaN  NaN  NaN     NaN    NaN     NaN  \n",
       "166  NaN  NaN  NaN     NaN    NaN     NaN  \n",
       "167  NaN  NaN  NaN     NaN    NaN     NaN  "
      ]
     },
     "execution_count": 10,
     "metadata": {},
     "output_type": "execute_result"
    }
   ],
   "source": [
    "df.iloc[163:168]"
   ]
  },
  {
   "cell_type": "markdown",
   "id": "30319857",
   "metadata": {
    "papermill": {
     "duration": 0.012247,
     "end_time": "2024-10-27T10:20:49.671728",
     "exception": false,
     "start_time": "2024-10-27T10:20:49.659481",
     "status": "completed"
    },
    "tags": []
   },
   "source": [
    "it looks like it have the same pattern, if the presence is zero, so no other values available for this champion.\n",
    "\n",
    "so, let's remove all the players with 0% presence."
   ]
  },
  {
   "cell_type": "code",
   "execution_count": 11,
   "id": "29cb329e",
   "metadata": {
    "execution": {
     "iopub.execute_input": "2024-10-27T10:20:49.698781Z",
     "iopub.status.busy": "2024-10-27T10:20:49.698279Z",
     "iopub.status.idle": "2024-10-27T10:20:49.707005Z",
     "shell.execute_reply": "2024-10-27T10:20:49.705812Z"
    },
    "jupyter": {
     "source_hidden": true
    },
    "papermill": {
     "duration": 0.025443,
     "end_time": "2024-10-27T10:20:49.709554",
     "exception": false,
     "start_time": "2024-10-27T10:20:49.684111",
     "status": "completed"
    },
    "tags": []
   },
   "outputs": [],
   "source": [
    "df = df[df['Presence']!=\"0%\"]"
   ]
  },
  {
   "cell_type": "markdown",
   "id": "b6e01fb0",
   "metadata": {
    "papermill": {
     "duration": 0.012039,
     "end_time": "2024-10-27T10:20:49.734142",
     "exception": false,
     "start_time": "2024-10-27T10:20:49.722103",
     "status": "completed"
    },
    "tags": []
   },
   "source": [
    "Let's check again!"
   ]
  },
  {
   "cell_type": "code",
   "execution_count": 12,
   "id": "71864135",
   "metadata": {
    "execution": {
     "iopub.execute_input": "2024-10-27T10:20:49.761761Z",
     "iopub.status.busy": "2024-10-27T10:20:49.761243Z",
     "iopub.status.idle": "2024-10-27T10:20:49.770937Z",
     "shell.execute_reply": "2024-10-27T10:20:49.769804Z"
    },
    "jupyter": {
     "source_hidden": true
    },
    "papermill": {
     "duration": 0.02675,
     "end_time": "2024-10-27T10:20:49.773731",
     "exception": false,
     "start_time": "2024-10-27T10:20:49.746981",
     "status": "completed"
    },
    "tags": []
   },
   "outputs": [
    {
     "data": {
      "text/plain": [
       "Champion    0\n",
       "Picks       0\n",
       "Bans        0\n",
       "Presence    0\n",
       "Wins        7\n",
       "Losses      7\n",
       "Winrate     7\n",
       "KDA         7\n",
       "Avg BT      0\n",
       "GT          7\n",
       "CSM         7\n",
       "DPM         7\n",
       "GPM         7\n",
       "CSD@15      7\n",
       "GD@15       7\n",
       "XPD@15      7\n",
       "dtype: int64"
      ]
     },
     "execution_count": 12,
     "metadata": {},
     "output_type": "execute_result"
    }
   ],
   "source": [
    "df.isna().sum()"
   ]
  },
  {
   "cell_type": "markdown",
   "id": "44810ebe",
   "metadata": {
    "papermill": {
     "duration": 0.012387,
     "end_time": "2024-10-27T10:20:49.798951",
     "exception": false,
     "start_time": "2024-10-27T10:20:49.786564",
     "status": "completed"
    },
    "tags": []
   },
   "source": [
    "Hmmm! still have some!\n",
    "\n",
    "Let's observe these ones."
   ]
  },
  {
   "cell_type": "code",
   "execution_count": 13,
   "id": "66cc0527",
   "metadata": {
    "execution": {
     "iopub.execute_input": "2024-10-27T10:20:49.826177Z",
     "iopub.status.busy": "2024-10-27T10:20:49.825715Z",
     "iopub.status.idle": "2024-10-27T10:20:49.852620Z",
     "shell.execute_reply": "2024-10-27T10:20:49.851458Z"
    },
    "jupyter": {
     "source_hidden": true
    },
    "papermill": {
     "duration": 0.043527,
     "end_time": "2024-10-27T10:20:49.855281",
     "exception": false,
     "start_time": "2024-10-27T10:20:49.811754",
     "status": "completed"
    },
    "tags": []
   },
   "outputs": [
    {
     "data": {
      "text/html": [
       "<div>\n",
       "<style scoped>\n",
       "    .dataframe tbody tr th:only-of-type {\n",
       "        vertical-align: middle;\n",
       "    }\n",
       "\n",
       "    .dataframe tbody tr th {\n",
       "        vertical-align: top;\n",
       "    }\n",
       "\n",
       "    .dataframe thead th {\n",
       "        text-align: right;\n",
       "    }\n",
       "</style>\n",
       "<table border=\"1\" class=\"dataframe\">\n",
       "  <thead>\n",
       "    <tr style=\"text-align: right;\">\n",
       "      <th></th>\n",
       "      <th>Champion</th>\n",
       "      <th>Picks</th>\n",
       "      <th>Bans</th>\n",
       "      <th>Presence</th>\n",
       "      <th>Wins</th>\n",
       "      <th>Losses</th>\n",
       "      <th>Winrate</th>\n",
       "      <th>KDA</th>\n",
       "      <th>Avg BT</th>\n",
       "      <th>GT</th>\n",
       "      <th>CSM</th>\n",
       "      <th>DPM</th>\n",
       "      <th>GPM</th>\n",
       "      <th>CSD@15</th>\n",
       "      <th>GD@15</th>\n",
       "      <th>XPD@15</th>\n",
       "    </tr>\n",
       "  </thead>\n",
       "  <tbody>\n",
       "    <tr>\n",
       "      <th>66</th>\n",
       "      <td>Taliyah</td>\n",
       "      <td>0</td>\n",
       "      <td>1</td>\n",
       "      <td>3%</td>\n",
       "      <td>NaN</td>\n",
       "      <td>NaN</td>\n",
       "      <td>NaN</td>\n",
       "      <td>NaN</td>\n",
       "      <td>7</td>\n",
       "      <td>NaN</td>\n",
       "      <td>NaN</td>\n",
       "      <td>NaN</td>\n",
       "      <td>NaN</td>\n",
       "      <td>NaN</td>\n",
       "      <td>NaN</td>\n",
       "      <td>NaN</td>\n",
       "    </tr>\n",
       "    <tr>\n",
       "      <th>67</th>\n",
       "      <td>Camille</td>\n",
       "      <td>1</td>\n",
       "      <td>0</td>\n",
       "      <td>3%</td>\n",
       "      <td>1.0</td>\n",
       "      <td>0.0</td>\n",
       "      <td>100%</td>\n",
       "      <td>6.5</td>\n",
       "      <td>-</td>\n",
       "      <td>39:50:00</td>\n",
       "      <td>8.8</td>\n",
       "      <td>554.0</td>\n",
       "      <td>466.0</td>\n",
       "      <td>15.0</td>\n",
       "      <td>821.0</td>\n",
       "      <td>448.0</td>\n",
       "    </tr>\n",
       "    <tr>\n",
       "      <th>68</th>\n",
       "      <td>Lillia</td>\n",
       "      <td>1</td>\n",
       "      <td>0</td>\n",
       "      <td>3%</td>\n",
       "      <td>0.0</td>\n",
       "      <td>1.0</td>\n",
       "      <td>0%</td>\n",
       "      <td>4.0</td>\n",
       "      <td>-</td>\n",
       "      <td>45:40:00</td>\n",
       "      <td>6.7</td>\n",
       "      <td>386.0</td>\n",
       "      <td>347.0</td>\n",
       "      <td>-7.0</td>\n",
       "      <td>-865.0</td>\n",
       "      <td>-495.0</td>\n",
       "    </tr>\n",
       "    <tr>\n",
       "      <th>69</th>\n",
       "      <td>Viego</td>\n",
       "      <td>0</td>\n",
       "      <td>1</td>\n",
       "      <td>3%</td>\n",
       "      <td>NaN</td>\n",
       "      <td>NaN</td>\n",
       "      <td>NaN</td>\n",
       "      <td>NaN</td>\n",
       "      <td>10</td>\n",
       "      <td>NaN</td>\n",
       "      <td>NaN</td>\n",
       "      <td>NaN</td>\n",
       "      <td>NaN</td>\n",
       "      <td>NaN</td>\n",
       "      <td>NaN</td>\n",
       "      <td>NaN</td>\n",
       "    </tr>\n",
       "    <tr>\n",
       "      <th>70</th>\n",
       "      <td>Hwei</td>\n",
       "      <td>1</td>\n",
       "      <td>0</td>\n",
       "      <td>3%</td>\n",
       "      <td>1.0</td>\n",
       "      <td>0.0</td>\n",
       "      <td>100%</td>\n",
       "      <td>19.0</td>\n",
       "      <td>-</td>\n",
       "      <td>37:44:00</td>\n",
       "      <td>7.2</td>\n",
       "      <td>778.0</td>\n",
       "      <td>442.0</td>\n",
       "      <td>-11.0</td>\n",
       "      <td>-26.0</td>\n",
       "      <td>-727.0</td>\n",
       "    </tr>\n",
       "  </tbody>\n",
       "</table>\n",
       "</div>"
      ],
      "text/plain": [
       "    Champion  Picks  Bans Presence  Wins  Losses Winrate   KDA Avg BT  \\\n",
       "66   Taliyah      0     1       3%   NaN     NaN     NaN   NaN      7   \n",
       "67   Camille      1     0       3%   1.0     0.0    100%   6.5      -   \n",
       "68    Lillia      1     0       3%   0.0     1.0      0%   4.0      -   \n",
       "69     Viego      0     1       3%   NaN     NaN     NaN   NaN     10   \n",
       "70      Hwei      1     0       3%   1.0     0.0    100%  19.0      -   \n",
       "\n",
       "          GT  CSM    DPM    GPM  CSD@15  GD@15  XPD@15  \n",
       "66       NaN  NaN    NaN    NaN     NaN    NaN     NaN  \n",
       "67  39:50:00  8.8  554.0  466.0    15.0  821.0   448.0  \n",
       "68  45:40:00  6.7  386.0  347.0    -7.0 -865.0  -495.0  \n",
       "69       NaN  NaN    NaN    NaN     NaN    NaN     NaN  \n",
       "70  37:44:00  7.2  778.0  442.0   -11.0  -26.0  -727.0  "
      ]
     },
     "execution_count": 13,
     "metadata": {},
     "output_type": "execute_result"
    }
   ],
   "source": [
    "df.iloc[66:75]"
   ]
  },
  {
   "cell_type": "markdown",
   "id": "477d192b",
   "metadata": {
    "papermill": {
     "duration": 0.01295,
     "end_time": "2024-10-27T10:20:49.881534",
     "exception": false,
     "start_time": "2024-10-27T10:20:49.868584",
     "status": "completed"
    },
    "tags": []
   },
   "source": [
    "it seems like if the Champion didn't pick any game so there are no data available for the Champ as well.\n",
    "\n",
    "Let's remove it."
   ]
  },
  {
   "cell_type": "code",
   "execution_count": 14,
   "id": "303cfa06",
   "metadata": {
    "execution": {
     "iopub.execute_input": "2024-10-27T10:20:49.909641Z",
     "iopub.status.busy": "2024-10-27T10:20:49.909167Z",
     "iopub.status.idle": "2024-10-27T10:20:49.915732Z",
     "shell.execute_reply": "2024-10-27T10:20:49.914587Z"
    },
    "jupyter": {
     "source_hidden": true
    },
    "papermill": {
     "duration": 0.023411,
     "end_time": "2024-10-27T10:20:49.918132",
     "exception": false,
     "start_time": "2024-10-27T10:20:49.894721",
     "status": "completed"
    },
    "tags": []
   },
   "outputs": [],
   "source": [
    "df = df[df['Picks']!=0]"
   ]
  },
  {
   "cell_type": "code",
   "execution_count": 15,
   "id": "5af3208e",
   "metadata": {
    "execution": {
     "iopub.execute_input": "2024-10-27T10:20:49.946384Z",
     "iopub.status.busy": "2024-10-27T10:20:49.945412Z",
     "iopub.status.idle": "2024-10-27T10:20:49.955636Z",
     "shell.execute_reply": "2024-10-27T10:20:49.954398Z"
    },
    "jupyter": {
     "source_hidden": true
    },
    "papermill": {
     "duration": 0.027239,
     "end_time": "2024-10-27T10:20:49.958410",
     "exception": false,
     "start_time": "2024-10-27T10:20:49.931171",
     "status": "completed"
    },
    "tags": []
   },
   "outputs": [
    {
     "data": {
      "text/plain": [
       "Champion    0\n",
       "Picks       0\n",
       "Bans        0\n",
       "Presence    0\n",
       "Wins        0\n",
       "Losses      0\n",
       "Winrate     0\n",
       "KDA         0\n",
       "Avg BT      0\n",
       "GT          0\n",
       "CSM         0\n",
       "DPM         0\n",
       "GPM         0\n",
       "CSD@15      0\n",
       "GD@15       0\n",
       "XPD@15      0\n",
       "dtype: int64"
      ]
     },
     "execution_count": 15,
     "metadata": {},
     "output_type": "execute_result"
    }
   ],
   "source": [
    "df.isna().sum()"
   ]
  },
  {
   "cell_type": "markdown",
   "id": "3c4bc353",
   "metadata": {
    "papermill": {
     "duration": 0.012656,
     "end_time": "2024-10-27T10:20:49.984621",
     "exception": false,
     "start_time": "2024-10-27T10:20:49.971965",
     "status": "completed"
    },
    "tags": []
   },
   "source": [
    "Perfect! Now we have a clean data!\n",
    "\n",
    "So, let's move forward to show this data with interactive widgets in our notebook!"
   ]
  },
  {
   "cell_type": "markdown",
   "id": "e0a5495b",
   "metadata": {
    "papermill": {
     "duration": 0.013574,
     "end_time": "2024-10-27T10:20:50.011460",
     "exception": false,
     "start_time": "2024-10-27T10:20:49.997886",
     "status": "completed"
    },
    "tags": []
   },
   "source": [
    "# Data Visualization"
   ]
  },
  {
   "cell_type": "markdown",
   "id": "1805302f",
   "metadata": {
    "papermill": {
     "duration": 0.012627,
     "end_time": "2024-10-27T10:20:50.037164",
     "exception": false,
     "start_time": "2024-10-27T10:20:50.024537",
     "status": "completed"
    },
    "tags": []
   },
   "source": [
    "First let's group the dataset using champion to give insights per champion!\n",
    "\n",
    "Let's consider that we need to visual the statistics per champion, and add filters.\n",
    "\n",
    "so filters should be for champion, and Winrate, Presence for example."
   ]
  },
  {
   "cell_type": "code",
   "execution_count": 16,
   "id": "efb55451",
   "metadata": {
    "execution": {
     "iopub.execute_input": "2024-10-27T10:20:50.065661Z",
     "iopub.status.busy": "2024-10-27T10:20:50.065214Z",
     "iopub.status.idle": "2024-10-27T10:20:50.173971Z",
     "shell.execute_reply": "2024-10-27T10:20:50.172682Z"
    },
    "papermill": {
     "duration": 0.126165,
     "end_time": "2024-10-27T10:20:50.176957",
     "exception": false,
     "start_time": "2024-10-27T10:20:50.050792",
     "status": "completed"
    },
    "tags": []
   },
   "outputs": [],
   "source": [
    "import matplotlib.pyplot as plt\n",
    "import ipywidgets as widgets\n",
    "from IPython.display import display"
   ]
  },
  {
   "cell_type": "markdown",
   "id": "ed455e2f",
   "metadata": {
    "papermill": {
     "duration": 0.013003,
     "end_time": "2024-10-27T10:20:50.203408",
     "exception": false,
     "start_time": "2024-10-27T10:20:50.190405",
     "status": "completed"
    },
    "tags": []
   },
   "source": [
    "let's prepare the data values for our visualization."
   ]
  },
  {
   "cell_type": "code",
   "execution_count": 17,
   "id": "c9dc7415",
   "metadata": {
    "execution": {
     "iopub.execute_input": "2024-10-27T10:20:50.233462Z",
     "iopub.status.busy": "2024-10-27T10:20:50.232328Z",
     "iopub.status.idle": "2024-10-27T10:20:50.243034Z",
     "shell.execute_reply": "2024-10-27T10:20:50.241727Z"
    },
    "papermill": {
     "duration": 0.027897,
     "end_time": "2024-10-27T10:20:50.245522",
     "exception": false,
     "start_time": "2024-10-27T10:20:50.217625",
     "status": "completed"
    },
    "tags": []
   },
   "outputs": [],
   "source": [
    "def percantage_to_float(x):\n",
    "    return float(x.strip('%'))/100\n",
    "\n",
    "\n",
    "df['Winrate_float'] = df['Winrate'].apply(percantage_to_float)\n",
    "df['Presence_float'] = df['Presence'].apply(percantage_to_float)\n",
    "\n",
    "max_winrate = df[\"Winrate_float\"].max()\n",
    "max_presence = df['Presence_float'].max()\n",
    "\n",
    "dataset = df.groupby(df[\"Champion\"])"
   ]
  },
  {
   "cell_type": "code",
   "execution_count": 18,
   "id": "403b9929",
   "metadata": {
    "execution": {
     "iopub.execute_input": "2024-10-27T10:20:50.274325Z",
     "iopub.status.busy": "2024-10-27T10:20:50.273899Z",
     "iopub.status.idle": "2024-10-27T10:20:50.280834Z",
     "shell.execute_reply": "2024-10-27T10:20:50.279618Z"
    },
    "papermill": {
     "duration": 0.024254,
     "end_time": "2024-10-27T10:20:50.283463",
     "exception": false,
     "start_time": "2024-10-27T10:20:50.259209",
     "status": "completed"
    },
    "tags": []
   },
   "outputs": [],
   "source": [
    "champion_list = dataset.Champion.all().keys()"
   ]
  },
  {
   "cell_type": "code",
   "execution_count": 19,
   "id": "23f0c061",
   "metadata": {
    "execution": {
     "iopub.execute_input": "2024-10-27T10:20:50.312573Z",
     "iopub.status.busy": "2024-10-27T10:20:50.312087Z",
     "iopub.status.idle": "2024-10-27T10:20:50.345295Z",
     "shell.execute_reply": "2024-10-27T10:20:50.343915Z"
    },
    "papermill": {
     "duration": 0.057226,
     "end_time": "2024-10-27T10:20:50.354407",
     "exception": false,
     "start_time": "2024-10-27T10:20:50.297181",
     "status": "completed"
    },
    "tags": []
   },
   "outputs": [],
   "source": [
    "droplist = widgets.Dropdown(\n",
    "    options=champion_list,\n",
    "    description='Champion:'\n",
    ")\n",
    "\n",
    "winrate = widgets.FloatSlider(\n",
    "    value=7.5,\n",
    "    min=0,\n",
    "    max=max_winrate,\n",
    "    step=0.1,\n",
    "    description='Winrate:',\n",
    "    disabled=False,\n",
    "    continuous_update=False,\n",
    "    orientation='horizontal',\n",
    "    readout=True,\n",
    "    readout_format='.1f',\n",
    ")\n",
    "\n",
    "presence = widgets.FloatSlider(\n",
    "    value=7.5,\n",
    "    min=0,\n",
    "    max=max_presence,\n",
    "    step=0.1,\n",
    "    description='Presence:',\n",
    "    disabled=False,\n",
    "    continuous_update=False,\n",
    "    orientation='horizontal',\n",
    "    readout=True,\n",
    "    readout_format='.1f',\n",
    ")\n",
    "\n",
    "refresh = widgets.Button(\n",
    "    description='Refresh',\n",
    "    disabled=False,\n",
    "    button_style='success',\n",
    ")\n",
    "\n",
    "output_rates = widgets.Output()\n",
    "output_champ = widgets.Output()"
   ]
  },
  {
   "cell_type": "code",
   "execution_count": 20,
   "id": "1d09e249",
   "metadata": {
    "execution": {
     "iopub.execute_input": "2024-10-27T10:20:50.383110Z",
     "iopub.status.busy": "2024-10-27T10:20:50.382662Z",
     "iopub.status.idle": "2024-10-27T10:20:50.404202Z",
     "shell.execute_reply": "2024-10-27T10:20:50.403002Z"
    },
    "papermill": {
     "duration": 0.039033,
     "end_time": "2024-10-27T10:20:50.406875",
     "exception": false,
     "start_time": "2024-10-27T10:20:50.367842",
     "status": "completed"
    },
    "tags": []
   },
   "outputs": [
    {
     "name": "stdout",
     "output_type": "stream",
     "text": [
      "Get Values Higher than: \n"
     ]
    },
    {
     "data": {
      "application/vnd.jupyter.widget-view+json": {
       "model_id": "f7039c672c8145b19fb397e638849394",
       "version_major": 2,
       "version_minor": 0
      },
      "text/plain": [
       "FloatSlider(value=1.0, continuous_update=False, description='Winrate:', max=1.0, readout_format='.1f')"
      ]
     },
     "metadata": {},
     "output_type": "display_data"
    },
    {
     "data": {
      "application/vnd.jupyter.widget-view+json": {
       "model_id": "c2cb09f87d44470eb9d169b45d1bf4ed",
       "version_major": 2,
       "version_minor": 0
      },
      "text/plain": [
       "FloatSlider(value=1.0, continuous_update=False, description='Presence:', max=1.0, readout_format='.1f')"
      ]
     },
     "metadata": {},
     "output_type": "display_data"
    },
    {
     "data": {
      "application/vnd.jupyter.widget-view+json": {
       "model_id": "addc868a989542288da88512bae564c3",
       "version_major": 2,
       "version_minor": 0
      },
      "text/plain": [
       "Button(button_style='success', description='Refresh', style=ButtonStyle())"
      ]
     },
     "metadata": {},
     "output_type": "display_data"
    },
    {
     "data": {
      "application/vnd.jupyter.widget-view+json": {
       "model_id": "7fef2239da01477ebe0068c6d7fc2e82",
       "version_major": 2,
       "version_minor": 0
      },
      "text/plain": [
       "Output()"
      ]
     },
     "metadata": {},
     "output_type": "display_data"
    }
   ],
   "source": [
    "print(\"Get Values Higher than: \")\n",
    "display(winrate, presence, refresh, output_rates)\n",
    "\n",
    "\n",
    "def on_refresh_rates(x):\n",
    "    output_rates.clear_output()\n",
    "    with output_rates:\n",
    "        # get specific Champion\n",
    "        win = winrate.value\n",
    "        pres = presence.value\n",
    "        \n",
    "        sub_df = df.groupby(\"Champion\").filter(\n",
    "            lambda r: (r['Winrate_float']>=float(win)) & \n",
    "            (r['Presence_float']>=float(pres))\n",
    "        )\n",
    "        \n",
    "        Top_5 = sub_df.apply(lambda x:x.sort_values(ascending=True))[:5]\n",
    "        \n",
    "        figure, axis = plt.subplots(2, 2, figsize=(15, 15))\n",
    "        \n",
    "        axis[0, 0].bar(Top_5[\"Champion\"], Top_5[\"Picks\"])\n",
    "        axis[0, 0].set_title(\"Picks\")\n",
    "\n",
    "        axis[0, 1].bar(Top_5[\"Champion\"], Top_5[\"Bans\"])\n",
    "        axis[0, 1].set_title(\"Bans\")\n",
    "\n",
    "        axis[1, 0].bar(Top_5[\"Champion\"], Top_5[\"Wins\"])\n",
    "        axis[1, 0].set_title(\"Wins\")\n",
    "\n",
    "        axis[1, 1].bar(Top_5[\"Champion\"], Top_5[\"Losses\"])\n",
    "        axis[1, 1].set_title(\"Losses\")\n",
    "        \n",
    "        print(f\"Champoins: {len(sub_df)}\")\n",
    "        print(\"\\nNow let's render Top 5 Champions\")\n",
    "        \n",
    "    \n",
    "        plt.show()\n",
    "\n",
    "        \n",
    "refresh.on_click(on_refresh_rates)"
   ]
  },
  {
   "cell_type": "code",
   "execution_count": 21,
   "id": "efab596e",
   "metadata": {
    "execution": {
     "iopub.execute_input": "2024-10-27T10:20:50.437409Z",
     "iopub.status.busy": "2024-10-27T10:20:50.436940Z",
     "iopub.status.idle": "2024-10-27T10:20:50.451280Z",
     "shell.execute_reply": "2024-10-27T10:20:50.450114Z"
    },
    "papermill": {
     "duration": 0.032791,
     "end_time": "2024-10-27T10:20:50.453810",
     "exception": false,
     "start_time": "2024-10-27T10:20:50.421019",
     "status": "completed"
    },
    "tags": []
   },
   "outputs": [
    {
     "data": {
      "application/vnd.jupyter.widget-view+json": {
       "model_id": "c4de9403ab9e4bdd983fcf44407e8499",
       "version_major": 2,
       "version_minor": 0
      },
      "text/plain": [
       "Dropdown(description='Champion:', options=('\\xa0Ahri', '\\xa0Akali', '\\xa0Alistar', '\\xa0Amumu', '\\xa0Ashe', '\\…"
      ]
     },
     "metadata": {},
     "output_type": "display_data"
    },
    {
     "data": {
      "application/vnd.jupyter.widget-view+json": {
       "model_id": "addc868a989542288da88512bae564c3",
       "version_major": 2,
       "version_minor": 0
      },
      "text/plain": [
       "Button(button_style='success', description='Refresh', style=ButtonStyle())"
      ]
     },
     "metadata": {},
     "output_type": "display_data"
    },
    {
     "data": {
      "application/vnd.jupyter.widget-view+json": {
       "model_id": "bb7aa1fd11f54ce88a72c2173487885b",
       "version_major": 2,
       "version_minor": 0
      },
      "text/plain": [
       "Output()"
      ]
     },
     "metadata": {},
     "output_type": "display_data"
    }
   ],
   "source": [
    "display(droplist, refresh, output_champ)\n",
    "\n",
    "\n",
    "def on_refresh_champ(x):\n",
    "    output_champ.clear_output()\n",
    "    with output_champ:\n",
    "        # get specific Champion\n",
    "        champ = droplist.value\n",
    "        \n",
    "        sub_df = df.groupby(\"Champion\").filter(\n",
    "            lambda r: r['Champion']==champ\n",
    "        )[[\"Picks\", \"Bans\", \"Wins\", \"Losses\"]]\n",
    "        print(f\"Showing {champ} Results\")\n",
    "        print(f\"Picks: {sub_df['Picks'].iloc[0]}\")\n",
    "        print(f\"Bans: {sub_df['Bans'].iloc[0]}\")\n",
    "        print(f\"Wins: {sub_df['Wins'].iloc[0]}\")\n",
    "        print(f\"Losses {sub_df['Losses'].iloc[0]}\")\n",
    "        \n",
    "        sub_df.T.plot.bar()\n",
    "\n",
    "        plt.show()\n",
    "\n",
    "refresh.on_click(on_refresh_champ)"
   ]
  },
  {
   "cell_type": "markdown",
   "id": "40dcbbd6",
   "metadata": {
    "execution": {
     "iopub.execute_input": "2024-10-27T09:38:51.855736Z",
     "iopub.status.busy": "2024-10-27T09:38:51.855313Z",
     "iopub.status.idle": "2024-10-27T09:38:51.863301Z",
     "shell.execute_reply": "2024-10-27T09:38:51.861700Z",
     "shell.execute_reply.started": "2024-10-27T09:38:51.855694Z"
    },
    "papermill": {
     "duration": 0.014345,
     "end_time": "2024-10-27T10:20:50.482957",
     "exception": false,
     "start_time": "2024-10-27T10:20:50.468612",
     "status": "completed"
    },
    "tags": []
   },
   "source": [
    "### Great!\n",
    "Now we have an interactive dashboard using only the notebook!\n",
    "\n",
    "Feel Free to reach me out on abdelrahmanmohamed@redbluelab.com\n",
    "and visit our website [RedBlueLab](https://www.redbluelab.com)\n",
    "\n",
    "for Blogging content you can visit [Meduim Blog](https://medium.com/@AMustafa4983)"
   ]
  }
 ],
 "metadata": {
  "kaggle": {
   "accelerator": "none",
   "dataSources": [
    {
     "datasetId": 5859315,
     "sourceId": 9603747,
     "sourceType": "datasetVersion"
    }
   ],
   "dockerImageVersionId": 30786,
   "isGpuEnabled": false,
   "isInternetEnabled": true,
   "language": "python",
   "sourceType": "notebook"
  },
  "kernelspec": {
   "display_name": "Python 3",
   "language": "python",
   "name": "python3"
  },
  "language_info": {
   "codemirror_mode": {
    "name": "ipython",
    "version": 3
   },
   "file_extension": ".py",
   "mimetype": "text/x-python",
   "name": "python",
   "nbconvert_exporter": "python",
   "pygments_lexer": "ipython3",
   "version": "3.12.2"
  },
  "papermill": {
   "default_parameters": {},
   "duration": 6.101525,
   "end_time": "2024-10-27T10:20:51.020403",
   "environment_variables": {},
   "exception": null,
   "input_path": "__notebook__.ipynb",
   "output_path": "__notebook__.ipynb",
   "parameters": {},
   "start_time": "2024-10-27T10:20:44.918878",
   "version": "2.6.0"
  },
  "widgets": {
   "application/vnd.jupyter.widget-state+json": {
    "state": {
     "0a5e96de55cb472c910ca0b319836f80": {
      "model_module": "@jupyter-widgets/controls",
      "model_module_version": "1.5.0",
      "model_name": "DescriptionStyleModel",
      "state": {
       "_model_module": "@jupyter-widgets/controls",
       "_model_module_version": "1.5.0",
       "_model_name": "DescriptionStyleModel",
       "_view_count": null,
       "_view_module": "@jupyter-widgets/base",
       "_view_module_version": "1.2.0",
       "_view_name": "StyleView",
       "description_width": ""
      }
     },
     "0c800e881a4d45799d1fb9880aade239": {
      "model_module": "@jupyter-widgets/controls",
      "model_module_version": "1.5.0",
      "model_name": "SliderStyleModel",
      "state": {
       "_model_module": "@jupyter-widgets/controls",
       "_model_module_version": "1.5.0",
       "_model_name": "SliderStyleModel",
       "_view_count": null,
       "_view_module": "@jupyter-widgets/base",
       "_view_module_version": "1.2.0",
       "_view_name": "StyleView",
       "description_width": "",
       "handle_color": null
      }
     },
     "1d6d831c4bff46c7bc8e675ebbdfc6af": {
      "model_module": "@jupyter-widgets/output",
      "model_module_version": "1.0.0",
      "model_name": "OutputModel",
      "state": {
       "_dom_classes": [],
       "_model_module": "@jupyter-widgets/output",
       "_model_module_version": "1.0.0",
       "_model_name": "OutputModel",
       "_view_count": null,
       "_view_module": "@jupyter-widgets/output",
       "_view_module_version": "1.0.0",
       "_view_name": "OutputView",
       "layout": "IPY_MODEL_40d1ebaa05b546deaeb9a1f13b5b4d1a",
       "msg_id": "",
       "outputs": []
      }
     },
     "1e386a2a749647feb813ba7f94f11c6f": {
      "model_module": "@jupyter-widgets/base",
      "model_module_version": "1.2.0",
      "model_name": "LayoutModel",
      "state": {
       "_model_module": "@jupyter-widgets/base",
       "_model_module_version": "1.2.0",
       "_model_name": "LayoutModel",
       "_view_count": null,
       "_view_module": "@jupyter-widgets/base",
       "_view_module_version": "1.2.0",
       "_view_name": "LayoutView",
       "align_content": null,
       "align_items": null,
       "align_self": null,
       "border": null,
       "bottom": null,
       "display": null,
       "flex": null,
       "flex_flow": null,
       "grid_area": null,
       "grid_auto_columns": null,
       "grid_auto_flow": null,
       "grid_auto_rows": null,
       "grid_column": null,
       "grid_gap": null,
       "grid_row": null,
       "grid_template_areas": null,
       "grid_template_columns": null,
       "grid_template_rows": null,
       "height": null,
       "justify_content": null,
       "justify_items": null,
       "left": null,
       "margin": null,
       "max_height": null,
       "max_width": null,
       "min_height": null,
       "min_width": null,
       "object_fit": null,
       "object_position": null,
       "order": null,
       "overflow": null,
       "overflow_x": null,
       "overflow_y": null,
       "padding": null,
       "right": null,
       "top": null,
       "visibility": null,
       "width": null
      }
     },
     "40d1ebaa05b546deaeb9a1f13b5b4d1a": {
      "model_module": "@jupyter-widgets/base",
      "model_module_version": "1.2.0",
      "model_name": "LayoutModel",
      "state": {
       "_model_module": "@jupyter-widgets/base",
       "_model_module_version": "1.2.0",
       "_model_name": "LayoutModel",
       "_view_count": null,
       "_view_module": "@jupyter-widgets/base",
       "_view_module_version": "1.2.0",
       "_view_name": "LayoutView",
       "align_content": null,
       "align_items": null,
       "align_self": null,
       "border": null,
       "bottom": null,
       "display": null,
       "flex": null,
       "flex_flow": null,
       "grid_area": null,
       "grid_auto_columns": null,
       "grid_auto_flow": null,
       "grid_auto_rows": null,
       "grid_column": null,
       "grid_gap": null,
       "grid_row": null,
       "grid_template_areas": null,
       "grid_template_columns": null,
       "grid_template_rows": null,
       "height": null,
       "justify_content": null,
       "justify_items": null,
       "left": null,
       "margin": null,
       "max_height": null,
       "max_width": null,
       "min_height": null,
       "min_width": null,
       "object_fit": null,
       "object_position": null,
       "order": null,
       "overflow": null,
       "overflow_x": null,
       "overflow_y": null,
       "padding": null,
       "right": null,
       "top": null,
       "visibility": null,
       "width": null
      }
     },
     "506e97bbdedc47548aa7a6de120a0d84": {
      "model_module": "@jupyter-widgets/base",
      "model_module_version": "1.2.0",
      "model_name": "LayoutModel",
      "state": {
       "_model_module": "@jupyter-widgets/base",
       "_model_module_version": "1.2.0",
       "_model_name": "LayoutModel",
       "_view_count": null,
       "_view_module": "@jupyter-widgets/base",
       "_view_module_version": "1.2.0",
       "_view_name": "LayoutView",
       "align_content": null,
       "align_items": null,
       "align_self": null,
       "border": null,
       "bottom": null,
       "display": null,
       "flex": null,
       "flex_flow": null,
       "grid_area": null,
       "grid_auto_columns": null,
       "grid_auto_flow": null,
       "grid_auto_rows": null,
       "grid_column": null,
       "grid_gap": null,
       "grid_row": null,
       "grid_template_areas": null,
       "grid_template_columns": null,
       "grid_template_rows": null,
       "height": null,
       "justify_content": null,
       "justify_items": null,
       "left": null,
       "margin": null,
       "max_height": null,
       "max_width": null,
       "min_height": null,
       "min_width": null,
       "object_fit": null,
       "object_position": null,
       "order": null,
       "overflow": null,
       "overflow_x": null,
       "overflow_y": null,
       "padding": null,
       "right": null,
       "top": null,
       "visibility": null,
       "width": null
      }
     },
     "538588d23cde4f0e96679d62ccd9e71e": {
      "model_module": "@jupyter-widgets/base",
      "model_module_version": "1.2.0",
      "model_name": "LayoutModel",
      "state": {
       "_model_module": "@jupyter-widgets/base",
       "_model_module_version": "1.2.0",
       "_model_name": "LayoutModel",
       "_view_count": null,
       "_view_module": "@jupyter-widgets/base",
       "_view_module_version": "1.2.0",
       "_view_name": "LayoutView",
       "align_content": null,
       "align_items": null,
       "align_self": null,
       "border": null,
       "bottom": null,
       "display": null,
       "flex": null,
       "flex_flow": null,
       "grid_area": null,
       "grid_auto_columns": null,
       "grid_auto_flow": null,
       "grid_auto_rows": null,
       "grid_column": null,
       "grid_gap": null,
       "grid_row": null,
       "grid_template_areas": null,
       "grid_template_columns": null,
       "grid_template_rows": null,
       "height": null,
       "justify_content": null,
       "justify_items": null,
       "left": null,
       "margin": null,
       "max_height": null,
       "max_width": null,
       "min_height": null,
       "min_width": null,
       "object_fit": null,
       "object_position": null,
       "order": null,
       "overflow": null,
       "overflow_x": null,
       "overflow_y": null,
       "padding": null,
       "right": null,
       "top": null,
       "visibility": null,
       "width": null
      }
     },
     "5e72139de6eb4baf92ebe5e356c2e411": {
      "model_module": "@jupyter-widgets/controls",
      "model_module_version": "1.5.0",
      "model_name": "FloatSliderModel",
      "state": {
       "_dom_classes": [],
       "_model_module": "@jupyter-widgets/controls",
       "_model_module_version": "1.5.0",
       "_model_name": "FloatSliderModel",
       "_view_count": null,
       "_view_module": "@jupyter-widgets/controls",
       "_view_module_version": "1.5.0",
       "_view_name": "FloatSliderView",
       "continuous_update": false,
       "description": "Winrate:",
       "description_tooltip": null,
       "disabled": false,
       "layout": "IPY_MODEL_f8f9084ee80041299c620ad91eb70b14",
       "max": 1,
       "min": 0,
       "orientation": "horizontal",
       "readout": true,
       "readout_format": ".1f",
       "step": 0.1,
       "style": "IPY_MODEL_0c800e881a4d45799d1fb9880aade239",
       "value": 1
      }
     },
     "60ebb900028e4611bad6be0a98dfc63f": {
      "model_module": "@jupyter-widgets/controls",
      "model_module_version": "1.5.0",
      "model_name": "FloatSliderModel",
      "state": {
       "_dom_classes": [],
       "_model_module": "@jupyter-widgets/controls",
       "_model_module_version": "1.5.0",
       "_model_name": "FloatSliderModel",
       "_view_count": null,
       "_view_module": "@jupyter-widgets/controls",
       "_view_module_version": "1.5.0",
       "_view_name": "FloatSliderView",
       "continuous_update": false,
       "description": "Presence:",
       "description_tooltip": null,
       "disabled": false,
       "layout": "IPY_MODEL_538588d23cde4f0e96679d62ccd9e71e",
       "max": 1,
       "min": 0,
       "orientation": "horizontal",
       "readout": true,
       "readout_format": ".1f",
       "step": 0.1,
       "style": "IPY_MODEL_b1a156cb4f654d21bcf68b0a13c1b17d",
       "value": 1
      }
     },
     "6ead86afeb7b4a0c88f1cced9cb55150": {
      "model_module": "@jupyter-widgets/controls",
      "model_module_version": "1.5.0",
      "model_name": "DropdownModel",
      "state": {
       "_dom_classes": [],
       "_model_module": "@jupyter-widgets/controls",
       "_model_module_version": "1.5.0",
       "_model_name": "DropdownModel",
       "_options_labels": [
        " Ahri",
        " Akali",
        " Alistar",
        " Amumu",
        " Ashe",
        " Aurora",
        " Brand",
        " Braum",
        " Camille",
        " Cassiopeia",
        " Darius",
        " Draven",
        " Ezreal",
        " Galio",
        " Gnar",
        " Gragas",
        " Hwei",
        " Ivern",
        " Jarvan IV",
        " Jax",
        " Jayce",
        " Jhin",
        " Jinx",
        " KSante",
        " Kaisa",
        " Kalista",
        " Kennen",
        " LeBlanc",
        " Leona",
        " Lillia",
        " Lucian",
        " Maokai",
        " Miss Fortune",
        " Nami",
        " Nautilus",
        " Neeko",
        " Nocturne",
        " Nunu",
        " Olaf",
        " Orianna",
        " Poppy",
        " Rakan",
        " Rell",
        " Renata Glasc",
        " Renekton",
        " Rumble",
        " Sejuani",
        " Sion",
        " Skarner",
        " Smolder",
        " Sylas",
        " Syndra",
        " Tristana",
        " Twitch",
        " Urgot",
        " Varus",
        " Vi",
        " Wukong",
        " Xayah",
        " Xin Zhao",
        " Yasuo",
        " Yone",
        " Ziggs",
        " Zyra"
       ],
       "_view_count": null,
       "_view_module": "@jupyter-widgets/controls",
       "_view_module_version": "1.5.0",
       "_view_name": "DropdownView",
       "description": "Champion:",
       "description_tooltip": null,
       "disabled": false,
       "index": 0,
       "layout": "IPY_MODEL_506e97bbdedc47548aa7a6de120a0d84",
       "style": "IPY_MODEL_0a5e96de55cb472c910ca0b319836f80"
      }
     },
     "9cdc57a8a0a240b18c1989c9ea64e801": {
      "model_module": "@jupyter-widgets/controls",
      "model_module_version": "1.5.0",
      "model_name": "ButtonStyleModel",
      "state": {
       "_model_module": "@jupyter-widgets/controls",
       "_model_module_version": "1.5.0",
       "_model_name": "ButtonStyleModel",
       "_view_count": null,
       "_view_module": "@jupyter-widgets/base",
       "_view_module_version": "1.2.0",
       "_view_name": "StyleView",
       "button_color": null,
       "font_weight": ""
      }
     },
     "b1a156cb4f654d21bcf68b0a13c1b17d": {
      "model_module": "@jupyter-widgets/controls",
      "model_module_version": "1.5.0",
      "model_name": "SliderStyleModel",
      "state": {
       "_model_module": "@jupyter-widgets/controls",
       "_model_module_version": "1.5.0",
       "_model_name": "SliderStyleModel",
       "_view_count": null,
       "_view_module": "@jupyter-widgets/base",
       "_view_module_version": "1.2.0",
       "_view_name": "StyleView",
       "description_width": "",
       "handle_color": null
      }
     },
     "c7a4efca73094845b5dab13defebda41": {
      "model_module": "@jupyter-widgets/output",
      "model_module_version": "1.0.0",
      "model_name": "OutputModel",
      "state": {
       "_dom_classes": [],
       "_model_module": "@jupyter-widgets/output",
       "_model_module_version": "1.0.0",
       "_model_name": "OutputModel",
       "_view_count": null,
       "_view_module": "@jupyter-widgets/output",
       "_view_module_version": "1.0.0",
       "_view_name": "OutputView",
       "layout": "IPY_MODEL_ed6848c59ec44a46aedc18370ad24ca4",
       "msg_id": "",
       "outputs": []
      }
     },
     "ed6848c59ec44a46aedc18370ad24ca4": {
      "model_module": "@jupyter-widgets/base",
      "model_module_version": "1.2.0",
      "model_name": "LayoutModel",
      "state": {
       "_model_module": "@jupyter-widgets/base",
       "_model_module_version": "1.2.0",
       "_model_name": "LayoutModel",
       "_view_count": null,
       "_view_module": "@jupyter-widgets/base",
       "_view_module_version": "1.2.0",
       "_view_name": "LayoutView",
       "align_content": null,
       "align_items": null,
       "align_self": null,
       "border": null,
       "bottom": null,
       "display": null,
       "flex": null,
       "flex_flow": null,
       "grid_area": null,
       "grid_auto_columns": null,
       "grid_auto_flow": null,
       "grid_auto_rows": null,
       "grid_column": null,
       "grid_gap": null,
       "grid_row": null,
       "grid_template_areas": null,
       "grid_template_columns": null,
       "grid_template_rows": null,
       "height": null,
       "justify_content": null,
       "justify_items": null,
       "left": null,
       "margin": null,
       "max_height": null,
       "max_width": null,
       "min_height": null,
       "min_width": null,
       "object_fit": null,
       "object_position": null,
       "order": null,
       "overflow": null,
       "overflow_x": null,
       "overflow_y": null,
       "padding": null,
       "right": null,
       "top": null,
       "visibility": null,
       "width": null
      }
     },
     "f2269ba60abd463babee22cd06f933b1": {
      "model_module": "@jupyter-widgets/controls",
      "model_module_version": "1.5.0",
      "model_name": "ButtonModel",
      "state": {
       "_dom_classes": [],
       "_model_module": "@jupyter-widgets/controls",
       "_model_module_version": "1.5.0",
       "_model_name": "ButtonModel",
       "_view_count": null,
       "_view_module": "@jupyter-widgets/controls",
       "_view_module_version": "1.5.0",
       "_view_name": "ButtonView",
       "button_style": "success",
       "description": "Refresh",
       "disabled": false,
       "icon": "",
       "layout": "IPY_MODEL_1e386a2a749647feb813ba7f94f11c6f",
       "style": "IPY_MODEL_9cdc57a8a0a240b18c1989c9ea64e801",
       "tooltip": ""
      }
     },
     "f8f9084ee80041299c620ad91eb70b14": {
      "model_module": "@jupyter-widgets/base",
      "model_module_version": "1.2.0",
      "model_name": "LayoutModel",
      "state": {
       "_model_module": "@jupyter-widgets/base",
       "_model_module_version": "1.2.0",
       "_model_name": "LayoutModel",
       "_view_count": null,
       "_view_module": "@jupyter-widgets/base",
       "_view_module_version": "1.2.0",
       "_view_name": "LayoutView",
       "align_content": null,
       "align_items": null,
       "align_self": null,
       "border": null,
       "bottom": null,
       "display": null,
       "flex": null,
       "flex_flow": null,
       "grid_area": null,
       "grid_auto_columns": null,
       "grid_auto_flow": null,
       "grid_auto_rows": null,
       "grid_column": null,
       "grid_gap": null,
       "grid_row": null,
       "grid_template_areas": null,
       "grid_template_columns": null,
       "grid_template_rows": null,
       "height": null,
       "justify_content": null,
       "justify_items": null,
       "left": null,
       "margin": null,
       "max_height": null,
       "max_width": null,
       "min_height": null,
       "min_width": null,
       "object_fit": null,
       "object_position": null,
       "order": null,
       "overflow": null,
       "overflow_x": null,
       "overflow_y": null,
       "padding": null,
       "right": null,
       "top": null,
       "visibility": null,
       "width": null
      }
     }
    },
    "version_major": 2,
    "version_minor": 0
   }
  }
 },
 "nbformat": 4,
 "nbformat_minor": 5
}
